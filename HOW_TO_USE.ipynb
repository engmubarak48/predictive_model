{
 "cells": [
  {
   "cell_type": "markdown",
   "metadata": {},
   "source": [
    "###### Here is explanation of how to use PnormRegressor model"
   ]
  },
  {
   "cell_type": "code",
   "execution_count": 5,
   "metadata": {},
   "outputs": [],
   "source": [
    "# Import Needed packages \n",
    "import numpy as np\n",
    "import sklearn\n",
    "from Estimator import PnormRegressor\n",
    "from sklearn.datasets import load_boston, fetch_openml\n",
    "from sklearn.model_selection import GridSearchCV"
   ]
  },
  {
   "cell_type": "code",
   "execution_count": 11,
   "metadata": {},
   "outputs": [
    {
     "name": "stdout",
     "output_type": "stream",
     "text": [
      "This code was tested on sklearn version of '0.21.2' & your sk.version is '0.21.2'\n"
     ]
    }
   ],
   "source": [
    "# Check your Version of Sklearn\n",
    "print(\"This code was tested on sklearn version of '0.21.2' & your sk.version is '{}'\".format(sklearn.__version__))"
   ]
  },
  {
   "cell_type": "code",
   "execution_count": 12,
   "metadata": {},
   "outputs": [],
   "source": [
    "# function to generate random data\n",
    "def generate_dataset_simple(n, m, std):\n",
    "  # Generate x as an array of `n` samples which can take a value between 0 and 100\n",
    "  x = np.random.rand(n, m) * 100\n",
    "  # Generate the random error of n samples, with a random value from a normal distribution, with a standard\n",
    "  # deviation provided in the function argument\n",
    "  y_intercept = np.random.randn(n) * std\n",
    "  beta = np.random.rand(m)\n",
    "  # Calculate `y` according to the equation discussed\n",
    "  y =  np.dot(beta, x.T) + y_intercept\n",
    "  return x, y\n",
    "\n",
    "# Function to evaluate the model (R2_score)\n",
    "def r2_score(y_true, y_pred):\n",
    "    mean_y = np.mean(y_true)\n",
    "    ss_tot = sum((y_true - mean_y) ** 2)\n",
    "    ss_res = sum((y_true - y_pred) ** 2)\n",
    "    r2 = 1 - (ss_res / ss_tot)\n",
    "    return r2"
   ]
  },
  {
   "cell_type": "markdown",
   "metadata": {},
   "source": [
    "##### Test The model on Random Generated data"
   ]
  },
  {
   "cell_type": "code",
   "execution_count": 13,
   "metadata": {},
   "outputs": [
    {
     "name": "stdout",
     "output_type": "stream",
     "text": [
      "R2_score for randomly generated train data: 0.9999398207489156\n",
      "R2_score for randomly generated test data: 0.9999491730587513\n"
     ]
    }
   ],
   "source": [
    "# generate 500 sampes of X, y randomly \n",
    "X, y = generate_dataset_simple(500, 4, 0.25)\n",
    "# Normalizing the data\n",
    "X = (X - X.mean(axis=0))/X.std(axis=0)\n",
    "\n",
    "#num_iterations, learning_rate , p_norm = 100, 1e-5, 2\n",
    "\n",
    "# split data into train and validation\n",
    "train_split_perc = 0.8\n",
    "trainset = round(train_split_perc * len(X))\n",
    "X_train, X_test, y_train, y_test = X[:trainset], X[trainset:], y[:trainset], y[trainset:]\n",
    "\n",
    "model = PnormRegressor()\n",
    "\n",
    "model.fit(X_train, y_train)\n",
    "\n",
    "y_pred_train = model.predict(X_train)\n",
    "y_pred_test = model.predict(X_test)\n",
    "\n",
    "print(\"R2_score for randomly generated train data: {}\".format(r2_score(y_train, y_pred_train)))\n",
    "print(\"R2_score for randomly generated test data: {}\".format(r2_score(y_test, y_pred_test)))"
   ]
  },
  {
   "cell_type": "code",
   "execution_count": 14,
   "metadata": {},
   "outputs": [
    {
     "name": "stdout",
     "output_type": "stream",
     "text": [
      "---Using sklearn-openML interface to evaluate the model on BOSTON dataset.---\n",
      "R2_score for BOSTON train data: 0.709629068699329\n",
      "R2_score for BOSTON test data: 0.11613806600873622\n"
     ]
    }
   ],
   "source": [
    "#####################################################################################\n",
    "print('---Using sklearn-openML interface to evaluate the model on BOSTON dataset.---')\n",
    "\n",
    "X,y = fetch_openml(name='boston', return_X_y=True)\n",
    "\n",
    "# Normalizing the data\n",
    "X = (X - X.mean(axis=0))/X.std(axis=0)\n",
    "\n",
    "X_train, X_test, y_train, y_test = X[:trainset], X[trainset:], y[:trainset], y[trainset:]\n",
    "\n",
    "model = PnormRegressor()\n",
    "\n",
    "model.fit(X_train, y_train)\n",
    "\n",
    "y_pred_train = model.predict(X_train)\n",
    "y_pred_test = model.predict(X_test)\n",
    "\n",
    "print(\"R2_score for BOSTON train data: {}\".format(r2_score(y_train, y_pred_train)))\n",
    "print(\"R2_score for BOSTON test data: {}\".format(r2_score(y_test, y_pred_test)))"
   ]
  },
  {
   "cell_type": "code",
   "execution_count": 15,
   "metadata": {},
   "outputs": [
    {
     "name": "stdout",
     "output_type": "stream",
     "text": [
      "----- MODEL EVALUATION on  Employee Selection (ESL) dataset fetched from openML DB\n",
      "R2_score for ESL train data: 0.8709435948092916\n",
      "R2_score for ESL test data: 0.8129008718137286\n"
     ]
    }
   ],
   "source": [
    "\n",
    "#######################################################################################\n",
    "print('----- MODEL EVALUATION on  Employee Selection (ESL) dataset fetched from openML DB')\n",
    "\n",
    "# Fetch Employee Selection dataset from openML\n",
    "X,y = fetch_openml(name='ESL', return_X_y=True)\n",
    "\n",
    "# Normalizing the data\n",
    "X = (X - X.mean(axis=0))/X.std(axis=0)\n",
    "\n",
    "# split data into train and validation\n",
    "X_train, X_test, y_train, y_test = X[:trainset], X[trainset:], y[:trainset], y[trainset:]\n",
    "\n",
    "model = PnormRegressor()\n",
    "\n",
    "model.fit(X_train, y_train)\n",
    "\n",
    "y_pred_train = model.predict(X_train)\n",
    "y_pred_test = model.predict(X_test)\n",
    "\n",
    "print(\"R2_score for ESL train data: {}\".format(r2_score(y_train, y_pred_train)))\n",
    "print(\"R2_score for ESL test data: {}\".format(r2_score(y_test, y_pred_test)))\n",
    "\n"
   ]
  },
  {
   "cell_type": "markdown",
   "metadata": {},
   "source": [
    "##### We can also use GridSearch to choose the best parameters. "
   ]
  },
  {
   "cell_type": "code",
   "execution_count": 16,
   "metadata": {},
   "outputs": [
    {
     "name": "stdout",
     "output_type": "stream",
     "text": [
      "----using sklearn packages like GridSearch to search for best parameters---\n",
      "R2_score for ESL train data: 0.8709435948092916\n",
      "R2_score for ESL test data: 0.8129008718137286\n",
      "Best parameters chose by GridSearch:  {'num_iterations': 1000, 'p_norm': 2}\n"
     ]
    }
   ],
   "source": [
    "\n",
    "##################################################################################\n",
    "print('----using sklearn packages like GridSearch to search for best parameters---')\n",
    "\n",
    "tuned_params = {\"num_iterations\": [100,1000], \"p_norm\" : [1,2]}\n",
    "\n",
    "# Fetch Employee Selection dataset from openML\n",
    "X,y = fetch_openml(name='ESL', return_X_y=True)\n",
    "\n",
    "# Normalizing the data\n",
    "X = (X - X.mean(axis=0))/X.std(axis=0)\n",
    "\n",
    "# split data into train and validation\n",
    "X_train, X_test, y_train, y_test = X[:trainset], X[trainset:], y[:trainset], y[trainset:]\n",
    "\n",
    "pipe = GridSearchCV(PnormRegressor(), tuned_params)\n",
    "pipe.fit(X_train, y_train)\n",
    "\n",
    "y_pred_train = pipe.predict(X_train)\n",
    "y_pred_test = pipe.predict(X_test)\n",
    "\n",
    "print(\"R2_score for ESL train data: {}\".format(r2_score(y_train, y_pred_train)))\n",
    "print(\"R2_score for ESL test data: {}\".format(r2_score(y_test, y_pred_test)))\n",
    "\n",
    "\n",
    "print(\"Best parameters chose by GridSearch: \", pipe.best_params_)\n"
   ]
  },
  {
   "cell_type": "code",
   "execution_count": null,
   "metadata": {},
   "outputs": [],
   "source": []
  }
 ],
 "metadata": {
  "kernelspec": {
   "display_name": "Python 3",
   "language": "python",
   "name": "python3"
  },
  "language_info": {
   "codemirror_mode": {
    "name": "ipython",
    "version": 3
   },
   "file_extension": ".py",
   "mimetype": "text/x-python",
   "name": "python",
   "nbconvert_exporter": "python",
   "pygments_lexer": "ipython3",
   "version": "3.7.3"
  }
 },
 "nbformat": 4,
 "nbformat_minor": 2
}
